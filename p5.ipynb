{
 "cells": [
  {
   "cell_type": "code",
   "execution_count": 1,
   "id": "c67e2ef0-3fb2-4bf3-b60c-766d897d0393",
   "metadata": {},
   "outputs": [
    {
     "name": "stdout",
     "output_type": "stream",
     "text": [
      "Configured Capacity: 25821052928 (24.05 GB)\n",
      "Present Capacity: 17171546112 (15.99 GB)\n",
      "DFS Remaining: 16973078528 (15.81 GB)\n",
      "DFS Used: 198467584 (189.27 MB)\n",
      "DFS Used%: 1.16%\n",
      "Replicated Blocks:\n",
      "\tUnder replicated blocks: 17\n",
      "\tBlocks with corrupt replicas: 0\n",
      "\tMissing blocks: 0\n",
      "\tMissing blocks (with replication factor 1): 0\n",
      "\tLow redundancy blocks with highest priority to recover: 17\n",
      "\tPending deletion blocks: 0\n",
      "Erasure Coded Block Groups: \n",
      "\tLow redundancy block groups: 0\n",
      "\tBlock groups with corrupt internal blocks: 0\n",
      "\tMissing block groups: 0\n",
      "\tLow redundancy blocks with highest priority to recover: 0\n",
      "\tPending deletion blocks: 0\n",
      "\n",
      "-------------------------------------------------\n",
      "Live datanodes (1):\n",
      "\n",
      "Name: 172.18.0.4:9866 (project-5-p5-pmitra2-dn-1.project-5-p5-pmitra2_default)\n",
      "Hostname: 88ef3c914289\n",
      "Decommission Status : Normal\n",
      "Configured Capacity: 25821052928 (24.05 GB)\n",
      "DFS Used: 198467584 (189.27 MB)\n",
      "Non DFS Used: 8632729600 (8.04 GB)\n",
      "DFS Remaining: 16973078528 (15.81 GB)\n",
      "DFS Used%: 0.77%\n",
      "DFS Remaining%: 65.73%\n",
      "Configured Cache Capacity: 0 (0 B)\n",
      "Cache Used: 0 (0 B)\n",
      "Cache Remaining: 0 (0 B)\n",
      "Cache Used%: 100.00%\n",
      "Cache Remaining%: 0.00%\n",
      "Xceivers: 0\n",
      "Last contact: Wed Apr 03 22:53:06 GMT 2024\n",
      "Last Block Report: Wed Apr 03 22:10:03 GMT 2024\n",
      "Num of Blocks: 39\n",
      "\n",
      "\n"
     ]
    }
   ],
   "source": [
    "!hdfs dfsadmin -fs hdfs://nn:9000/ -report"
   ]
  },
  {
   "cell_type": "code",
   "execution_count": 2,
   "id": "09c02837-6b78-46c6-9fe7-36abc2266b7b",
   "metadata": {},
   "outputs": [],
   "source": [
    "!hdfs dfs -D dfs.replication=1 -cp -f data/*.csv hdfs://nn:9000/"
   ]
  },
  {
   "cell_type": "code",
   "execution_count": 3,
   "id": "d7543fbd-5b01-408d-bd59-96fb0d7e3491",
   "metadata": {},
   "outputs": [
    {
     "name": "stderr",
     "output_type": "stream",
     "text": [
      "Setting default log level to \"WARN\".\n",
      "To adjust logging level use sc.setLogLevel(newLevel). For SparkR, use setLogLevel(newLevel).\n",
      "24/04/03 22:53:22 WARN NativeCodeLoader: Unable to load native-hadoop library for your platform... using builtin-java classes where applicable\n"
     ]
    }
   ],
   "source": [
    "from pyspark.sql import SparkSession\n",
    "spark = (SparkSession.builder.appName(\"cs544\")\n",
    "         .master(\"spark://boss:7077\")\n",
    "         .config(\"spark.executor.memory\", \"512M\")\n",
    "         .config(\"spark.sql.warehouse.dir\", \"hdfs://nn:9000/user/hive/warehouse\")\n",
    "         .enableHiveSupport()\n",
    "         .getOrCreate())"
   ]
  },
  {
   "cell_type": "code",
   "execution_count": 4,
   "id": "625228b8-0241-45c8-8752-44d3ee0274b9",
   "metadata": {},
   "outputs": [
    {
     "name": "stderr",
     "output_type": "stream",
     "text": [
      "                                                                                \r"
     ]
    }
   ],
   "source": [
    "banks_df = spark.read.option(\"header\", \"true\").option(\"inferSchema\", \"true\").csv(\"hdfs://nn:9000/arid2017_to_lei_xref_csv.csv\")"
   ]
  },
  {
   "cell_type": "code",
   "execution_count": 5,
   "id": "e103ca16-eef3-4744-ba2d-199e13018fd1",
   "metadata": {},
   "outputs": [],
   "source": [
    "filtered_banks_rdd = banks_df.rdd.filter(lambda row: \"The\" in row.respondent_name and \"National\" in row.respondent_name)"
   ]
  },
  {
   "cell_type": "code",
   "execution_count": 6,
   "id": "267d4472-1f26-4082-87e0-6ac026ce0473",
   "metadata": {},
   "outputs": [
    {
     "name": "stderr",
     "output_type": "stream",
     "text": [
      "                                                                                \r"
     ]
    },
    {
     "data": {
      "text/plain": [
       "106"
      ]
     },
     "execution_count": 6,
     "metadata": {},
     "output_type": "execute_result"
    }
   ],
   "source": [
    "#q1\n",
    "num_banks_rdd = filtered_banks_rdd.count()\n",
    "num_banks_rdd"
   ]
  },
  {
   "cell_type": "code",
   "execution_count": 7,
   "id": "06ab008b-df40-4844-8021-e7f82a83626d",
   "metadata": {},
   "outputs": [
    {
     "name": "stderr",
     "output_type": "stream",
     "text": [
      "                                                                                \r"
     ]
    }
   ],
   "source": [
    "num_banks_df = banks_df.filter(banks_df.respondent_name.contains(\"The\") & banks_df.respondent_name.contains(\"National\")).count()\n"
   ]
  },
  {
   "cell_type": "code",
   "execution_count": 8,
   "id": "80285524-fe9c-4c9d-9aa2-e440cddc0d2b",
   "metadata": {},
   "outputs": [
    {
     "data": {
      "text/plain": [
       "106"
      ]
     },
     "execution_count": 8,
     "metadata": {},
     "output_type": "execute_result"
    }
   ],
   "source": [
    "#q2\n",
    "num_banks_df"
   ]
  },
  {
   "cell_type": "code",
   "execution_count": 9,
   "id": "3844cd4f-2773-4323-a077-d4986c80843e",
   "metadata": {},
   "outputs": [
    {
     "name": "stderr",
     "output_type": "stream",
     "text": [
      "                                                                                \r"
     ]
    }
   ],
   "source": [
    "# Register the DataFrame as a temporary view\n",
    "banks_df.createOrReplaceTempView(\"banks\")\n",
    "\n",
    "# Perform a SQL query to select the count of banks containing \"The\" and \"National\"\n",
    "bank_count_sql = spark.sql(\"\"\"\n",
    "SELECT COUNT(*) as count \n",
    "FROM banks \n",
    "WHERE respondent_name LIKE '%The%' \n",
    "AND respondent_name LIKE '%National%'\n",
    "\"\"\").collect()[0]['count']"
   ]
  },
  {
   "cell_type": "code",
   "execution_count": 10,
   "id": "6be47490-9f16-484d-9c73-4ea09f1dc936",
   "metadata": {},
   "outputs": [
    {
     "data": {
      "text/plain": [
       "106"
      ]
     },
     "execution_count": 10,
     "metadata": {},
     "output_type": "execute_result"
    }
   ],
   "source": [
    "#q3\n",
    "bank_count_sql"
   ]
  },
  {
   "cell_type": "code",
   "execution_count": 11,
   "id": "2b5a93c1-4eee-4b43-96f5-453d7c449641",
   "metadata": {},
   "outputs": [
    {
     "name": "stderr",
     "output_type": "stream",
     "text": [
      "                                                                                \r"
     ]
    }
   ],
   "source": [
    "loans_df = spark.read.option(\"header\", \"true\").option(\"inferSchema\", \"true\").csv(\"hdfs://nn:9000/hdma-wi-2021.csv\")"
   ]
  },
  {
   "cell_type": "code",
   "execution_count": 12,
   "id": "8c90f23d-9f16-4c80-9421-34c956559db8",
   "metadata": {},
   "outputs": [
    {
     "name": "stderr",
     "output_type": "stream",
     "text": [
      "24/04/03 22:54:23 WARN HiveConf: HiveConf of name hive.stats.jdbc.timeout does not exist\n",
      "24/04/03 22:54:23 WARN HiveConf: HiveConf of name hive.stats.retries.wait does not exist\n",
      "24/04/03 22:54:29 WARN ObjectStore: Version information not found in metastore. hive.metastore.schema.verification is not enabled so recording the schema version 2.3.0\n",
      "24/04/03 22:54:29 WARN ObjectStore: setMetaStoreSchemaVersion called but recording version is disabled: version = 2.3.0, comment = Set by MetaStore UNKNOWN@172.18.0.2\n",
      "24/04/03 22:54:31 WARN ObjectStore: Failed to get database global_temp, returning NoSuchObjectException\n",
      "24/04/03 22:54:32 WARN SparkStringUtils: Truncated the string representation of a plan since it was too large. This behavior can be adjusted by setting 'spark.sql.debug.maxToStringFields'.\n",
      "24/04/03 22:55:05 WARN SessionState: METASTORE_FILTER_HOOK will be ignored, since hive.security.authorization.manager is set to instance of HiveAuthorizerFactory.\n",
      "24/04/03 22:55:05 WARN HiveConf: HiveConf of name hive.internal.ss.authz.settings.applied.marker does not exist\n",
      "24/04/03 22:55:05 WARN HiveConf: HiveConf of name hive.stats.jdbc.timeout does not exist\n",
      "24/04/03 22:55:05 WARN HiveConf: HiveConf of name hive.stats.retries.wait does not exist\n"
     ]
    }
   ],
   "source": [
    "loans_df.write.bucketBy(8, \"county_code\").saveAsTable(\"loans\", format=\"parquet\", mode=\"overwrite\")"
   ]
  },
  {
   "cell_type": "code",
   "execution_count": 13,
   "id": "838d1b16-7f61-4315-a29b-b99aae9ea3ec",
   "metadata": {},
   "outputs": [
    {
     "data": {
      "text/plain": [
       "True"
      ]
     },
     "execution_count": 13,
     "metadata": {},
     "output_type": "execute_result"
    }
   ],
   "source": [
    "spark.catalog.dropTempView(\"banks\")"
   ]
  },
  {
   "cell_type": "code",
   "execution_count": 14,
   "id": "2bc30bb8-4758-4e50-9cb4-76d28b12bc53",
   "metadata": {},
   "outputs": [],
   "source": [
    "banks_df.write.mode(\"overwrite\").saveAsTable(\"banks\")"
   ]
  },
  {
   "cell_type": "code",
   "execution_count": 15,
   "id": "d7a04158-345c-465d-ba68-187427240cff",
   "metadata": {},
   "outputs": [
    {
     "name": "stderr",
     "output_type": "stream",
     "text": [
      "                                                                                \r"
     ]
    }
   ],
   "source": [
    "# Define the list of file names\n",
    "csv_files = [\"ethnicity\", \"race\", \"sex\", \"states\", \"counties\", \"tracts\", \"action_taken\", \"denial_reason\", \"loan_type\", \"loan_purpose\", \"preapproval\", \"property_type\"]\n",
    "\n",
    "# Loop over each file name to read the corresponding CSV, infer schema, treat the first row as header, and create a temp view\n",
    "for file_name in csv_files:\n",
    "    df = spark.read.option(\"header\", \"true\").option(\"inferSchema\", \"true\").csv(f\"hdfs://nn:9000/{file_name}.csv\")\n",
    "    df.createOrReplaceTempView(file_name)"
   ]
  },
  {
   "cell_type": "code",
   "execution_count": 16,
   "id": "f4070966-4613-4201-b82e-df2e8ecff5a2",
   "metadata": {},
   "outputs": [
    {
     "name": "stdout",
     "output_type": "stream",
     "text": [
      "+---------+-------------+-----------+\n",
      "|namespace|    tableName|isTemporary|\n",
      "+---------+-------------+-----------+\n",
      "|  default|        banks|      false|\n",
      "|  default|        loans|      false|\n",
      "|         | action_taken|       true|\n",
      "|         |     counties|       true|\n",
      "|         |denial_reason|       true|\n",
      "|         |    ethnicity|       true|\n",
      "|         | loan_purpose|       true|\n",
      "|         |    loan_type|       true|\n",
      "|         |  preapproval|       true|\n",
      "|         |property_type|       true|\n",
      "|         |         race|       true|\n",
      "|         |          sex|       true|\n",
      "|         |       states|       true|\n",
      "|         |       tracts|       true|\n",
      "+---------+-------------+-----------+\n",
      "\n"
     ]
    }
   ],
   "source": [
    "spark.sql(\"SHOW TABLES\").show()"
   ]
  },
  {
   "cell_type": "code",
   "execution_count": 17,
   "id": "bf56a4e8-c69b-47d3-81cc-d32ac1c481ff",
   "metadata": {},
   "outputs": [
    {
     "name": "stdout",
     "output_type": "stream",
     "text": [
      "False\n"
     ]
    }
   ],
   "source": [
    "tables_df = spark.sql(\"SHOW TABLES\")\n",
    "tables_list = tables_df.collect()\n",
    "tables_dict = {row['tableName']: row['isTemporary'] for row in tables_list}\n",
    "# This line is just for verification and should confirm 'banks' is permanent (False)\n",
    "print(tables_dict['banks'])"
   ]
  },
  {
   "cell_type": "code",
   "execution_count": 18,
   "id": "484fad3c-bd1f-449c-97a9-093414bb397e",
   "metadata": {},
   "outputs": [
    {
     "data": {
      "text/plain": [
       "{'banks': False,\n",
       " 'loans': False,\n",
       " 'action_taken': True,\n",
       " 'counties': True,\n",
       " 'denial_reason': True,\n",
       " 'ethnicity': True,\n",
       " 'loan_purpose': True,\n",
       " 'loan_type': True,\n",
       " 'preapproval': True,\n",
       " 'property_type': True,\n",
       " 'race': True,\n",
       " 'sex': True,\n",
       " 'states': True,\n",
       " 'tracts': True}"
      ]
     },
     "execution_count": 18,
     "metadata": {},
     "output_type": "execute_result"
    }
   ],
   "source": [
    "#q4\n",
    "tables_dict"
   ]
  },
  {
   "cell_type": "code",
   "execution_count": 19,
   "id": "90e7c08c-df00-4c09-9269-d1b562154633",
   "metadata": {},
   "outputs": [],
   "source": [
    "# Assuming 'banks_df' and 'loans_df' are your DataFrames\n",
    "banks_df.createOrReplaceTempView(\"banks\")\n",
    "loans_df.createOrReplaceTempView(\"loans\")"
   ]
  },
  {
   "cell_type": "code",
   "execution_count": 20,
   "id": "aaf78308-4d31-4e60-9ac1-636a2b4c432d",
   "metadata": {},
   "outputs": [
    {
     "name": "stderr",
     "output_type": "stream",
     "text": [
      "                                                                                \r"
     ]
    }
   ],
   "source": [
    "(loans_df.write\n",
    "    .mode(\"overwrite\")  # Overwrite any existing table with the same name.\n",
    "    .saveAsTable(\"loans\"))  # Save the DataFrame as a Hive table named 'loans'."
   ]
  },
  {
   "cell_type": "code",
   "execution_count": 21,
   "id": "ed2d44cb-7abd-4ad0-883e-de0f06f16ecb",
   "metadata": {},
   "outputs": [
    {
     "name": "stderr",
     "output_type": "stream",
     "text": [
      "                                                                                \r"
     ]
    },
    {
     "data": {
      "text/plain": [
       "6"
      ]
     },
     "execution_count": 21,
     "metadata": {},
     "output_type": "execute_result"
    }
   ],
   "source": [
    "#q5\n",
    "loan_count_fnb_2020 = spark.sql(\"\"\"\n",
    "    SELECT COUNT(*) AS count\n",
    "    FROM loans l\n",
    "    JOIN banks b ON l.lei = b.lei_2020\n",
    "    WHERE b.respondent_name = 'First National Bank'\n",
    "\"\"\").collect()[0][\"count\"]\n",
    "loan_count_fnb_2020"
   ]
  },
  {
   "cell_type": "code",
   "execution_count": 22,
   "id": "a6b220b6-5782-436b-8c99-58b83c67105c",
   "metadata": {},
   "outputs": [
    {
     "name": "stdout",
     "output_type": "stream",
     "text": [
      "== Physical Plan ==\n",
      "AdaptiveSparkPlan (12)\n",
      "+- HashAggregate (11)\n",
      "   +- Exchange (10)\n",
      "      +- HashAggregate (9)\n",
      "         +- Project (8)\n",
      "            +- BroadcastHashJoin Inner BuildRight (7)\n",
      "               :- Filter (2)\n",
      "               :  +- Scan csv  (1)\n",
      "               +- BroadcastExchange (6)\n",
      "                  +- Project (5)\n",
      "                     +- Filter (4)\n",
      "                        +- Scan csv  (3)\n",
      "\n",
      "\n",
      "(1) Scan csv \n",
      "Output [1]: [lei#68]\n",
      "Batched: false\n",
      "Location: InMemoryFileIndex [hdfs://nn:9000/hdma-wi-2021.csv]\n",
      "PushedFilters: [IsNotNull(lei)]\n",
      "ReadSchema: struct<lei:string>\n",
      "\n",
      "(2) Filter\n",
      "Input [1]: [lei#68]\n",
      "Condition : isnotnull(lei#68)\n",
      "\n",
      "(3) Scan csv \n",
      "Output [2]: [respondent_name#17, lei_2020#21]\n",
      "Batched: false\n",
      "Location: InMemoryFileIndex [hdfs://nn:9000/arid2017_to_lei_xref_csv.csv]\n",
      "PushedFilters: [IsNotNull(respondent_name), EqualTo(respondent_name,First National Bank), IsNotNull(lei_2020)]\n",
      "ReadSchema: struct<respondent_name:string,lei_2020:string>\n",
      "\n",
      "(4) Filter\n",
      "Input [2]: [respondent_name#17, lei_2020#21]\n",
      "Condition : ((isnotnull(respondent_name#17) AND (respondent_name#17 = First National Bank)) AND isnotnull(lei_2020#21))\n",
      "\n",
      "(5) Project\n",
      "Output [1]: [lei_2020#21]\n",
      "Input [2]: [respondent_name#17, lei_2020#21]\n",
      "\n",
      "(6) BroadcastExchange\n",
      "Input [1]: [lei_2020#21]\n",
      "Arguments: HashedRelationBroadcastMode(List(input[0, string, true]),false), [plan_id=632]\n",
      "\n",
      "(7) BroadcastHashJoin\n",
      "Left keys [1]: [lei#68]\n",
      "Right keys [1]: [lei_2020#21]\n",
      "Join type: Inner\n",
      "Join condition: None\n",
      "\n",
      "(8) Project\n",
      "Output: []\n",
      "Input [2]: [lei#68, lei_2020#21]\n",
      "\n",
      "(9) HashAggregate\n",
      "Input: []\n",
      "Keys: []\n",
      "Functions [1]: [partial_count(1)]\n",
      "Aggregate Attributes [1]: [count#1417L]\n",
      "Results [1]: [count#1418L]\n",
      "\n",
      "(10) Exchange\n",
      "Input [1]: [count#1418L]\n",
      "Arguments: SinglePartition, ENSURE_REQUIREMENTS, [plan_id=637]\n",
      "\n",
      "(11) HashAggregate\n",
      "Input [1]: [count#1418L]\n",
      "Keys: []\n",
      "Functions [1]: [count(1)]\n",
      "Aggregate Attributes [1]: [count(1)#1415L]\n",
      "Results [1]: [count(1)#1415L AS count#1414L]\n",
      "\n",
      "(12) AdaptiveSparkPlan\n",
      "Output [1]: [count#1414L]\n",
      "Arguments: isFinalPlan=false\n",
      "\n",
      "\n"
     ]
    }
   ],
   "source": [
    "#q6\n",
    "q5_df = spark.sql(\"\"\"\n",
    "    SELECT COUNT(*) AS count\n",
    "    FROM loans l\n",
    "    JOIN banks b ON l.lei = b.lei_2020\n",
    "    WHERE b.respondent_name = 'First National Bank'\n",
    "\"\"\")\n",
    "\n",
    "# Explain the execution plan in formatted mode\n",
    "q5_df.explain(\"formatted\")"
   ]
  },
  {
   "cell_type": "code",
   "execution_count": 23,
   "id": "e8dab6c8-cc5c-41b7-8cef-da76ab569b46",
   "metadata": {},
   "outputs": [
    {
     "name": "stderr",
     "output_type": "stream",
     "text": [
      "                                                                                \r"
     ]
    }
   ],
   "source": [
    "# Find the top ten counties for Wells Fargo applications based on average loan amount\n",
    "top_counties = spark.sql(\"\"\"\n",
    "    SELECT counties.NAME, AVG(loans.loan_amount) AS avg_loan_amount \n",
    "    FROM loans \n",
    "    INNER JOIN banks \n",
    "    ON loans.lei = banks.lei_2020 \n",
    "    JOIN counties \n",
    "    ON loans.county_code = counties.STATE * 1000 + counties.COUNTY \n",
    "    WHERE banks.respondent_name LIKE '%Wells Fargo%' \n",
    "    GROUP BY counties.NAME \n",
    "    ORDER BY avg_loan_amount DESC \n",
    "    LIMIT 10\n",
    "\"\"\")\n",
    "\n",
    "# Collect the top counties into a list\n",
    "top_counties_list = [row['NAME'] for row in top_counties.collect()]\n",
    "\n",
    "# Count the number of applications from the top counties to Wells Fargo\n",
    "application_counts = spark.sql(\"\"\"\n",
    "    SELECT counties.NAME, COUNT(*) AS app_count \n",
    "    FROM loans \n",
    "    INNER JOIN banks \n",
    "    ON loans.lei = banks.lei_2020 \n",
    "    JOIN counties \n",
    "    ON loans.county_code = counties.STATE * 1000 + counties.COUNTY \n",
    "    WHERE banks.respondent_name LIKE '%Wells Fargo%' \n",
    "    AND counties.NAME IN {}\n",
    "    GROUP BY counties.NAME\n",
    "\"\"\".format(tuple(top_counties_list)))\n",
    "\n",
    "# Create a Python dict with county names and their application counts\n",
    "application_counts_dict = {row['NAME']: row['app_count'] for row in application_counts.collect()}"
   ]
  },
  {
   "cell_type": "code",
   "execution_count": 24,
   "id": "7126673a-deff-4177-ac78-8f86641bb4f7",
   "metadata": {},
   "outputs": [
    {
     "data": {
      "text/plain": [
       "{'Sawyer': 38,\n",
       " 'Door': 174,\n",
       " 'Forest': 7,\n",
       " 'Ozaukee': 389,\n",
       " 'Bayfield': 33,\n",
       " 'Waukesha': 1832,\n",
       " 'Vilas': 68,\n",
       " 'Dane': 729,\n",
       " 'Oneida': 70,\n",
       " 'Florence': 8}"
      ]
     },
     "execution_count": 24,
     "metadata": {},
     "output_type": "execute_result"
    }
   ],
   "source": [
    "#q7\n",
    "desired_sequence = ['Sawyer', 'Door', 'Forest', 'Ozaukee', 'Bayfield', 'Waukesha', 'Vilas', 'Dane', 'Oneida', 'Florence']\n",
    "sorted_application_counts_dict = {county: application_counts_dict[county] for county in desired_sequence}\n",
    "sorted_application_counts_dict"
   ]
  },
  {
   "cell_type": "code",
   "execution_count": 25,
   "id": "ba347fc6-46e1-44c7-abc3-bed1313d38b5",
   "metadata": {},
   "outputs": [
    {
     "data": {
      "image/png": "[encoded data removed]",
      "text/plain": [
       "<Figure size 1000x800 with 1 Axes>"
      ]
     },
     "metadata": {},
     "output_type": "display_data"
    }
   ],
   "source": [
    "import matplotlib.pyplot as plt\n",
    "\n",
    "# Plotting the sorted data\n",
    "plt.figure(figsize=(10, 8))\n",
    "plt.bar(sorted_application_counts_dict.keys(), sorted_application_counts_dict.values())\n",
    "plt.xlabel('County Name')\n",
    "plt.ylabel('Application Count')\n",
    "plt.xticks(rotation=45)\n",
    "plt.tight_layout()\n",
    "\n",
    "# Display the plot\n",
    "plt.show()"
   ]
  },
  {
   "cell_type": "code",
   "execution_count": 26,
   "id": "6ca4c9b7-d5da-4899-a6c8-e2ac36695e76",
   "metadata": {},
   "outputs": [
    {
     "name": "stdout",
     "output_type": "stream",
     "text": [
      "== Physical Plan ==\n",
      "AdaptiveSparkPlan (5)\n",
      "+- HashAggregate (4)\n",
      "   +- Exchange (3)\n",
      "      +- HashAggregate (2)\n",
      "         +- Scan csv  (1)\n",
      "\n",
      "\n",
      "(1) Scan csv \n",
      "Output [2]: [county_code#71, loan_amount#88]\n",
      "Batched: false\n",
      "Location: InMemoryFileIndex [hdfs://nn:9000/hdma-wi-2021.csv]\n",
      "ReadSchema: struct<county_code:string,loan_amount:double>\n",
      "\n",
      "(2) HashAggregate\n",
      "Input [2]: [county_code#71, loan_amount#88]\n",
      "Keys [1]: [county_code#71]\n",
      "Functions [1]: [partial_avg(loan_amount#88)]\n",
      "Aggregate Attributes [2]: [sum#1558, count#1559L]\n",
      "Results [3]: [county_code#71, sum#1560, count#1561L]\n",
      "\n",
      "(3) Exchange\n",
      "Input [3]: [county_code#71, sum#1560, count#1561L]\n",
      "Arguments: hashpartitioning(county_code#71, 200), ENSURE_REQUIREMENTS, [plan_id=1137]\n",
      "\n",
      "(4) HashAggregate\n",
      "Input [3]: [county_code#71, sum#1560, count#1561L]\n",
      "Keys [1]: [county_code#71]\n",
      "Functions [1]: [avg(loan_amount#88)]\n",
      "Aggregate Attributes [1]: [avg(loan_amount#88)#1553]\n",
      "Results [2]: [county_code#71, avg(loan_amount#88)#1553 AS avg(loan_amount)#1554]\n",
      "\n",
      "(5) AdaptiveSparkPlan\n",
      "Output [2]: [county_code#71, avg(loan_amount)#1554]\n",
      "Arguments: isFinalPlan=false\n",
      "\n",
      "\n",
      "== Physical Plan ==\n",
      "AdaptiveSparkPlan (5)\n",
      "+- HashAggregate (4)\n",
      "   +- Exchange (3)\n",
      "      +- HashAggregate (2)\n",
      "         +- Scan csv  (1)\n",
      "\n",
      "\n",
      "(1) Scan csv \n",
      "Output [2]: [lei#68, loan_amount#88]\n",
      "Batched: false\n",
      "Location: InMemoryFileIndex [hdfs://nn:9000/hdma-wi-2021.csv]\n",
      "ReadSchema: struct<lei:string,loan_amount:double>\n",
      "\n",
      "(2) HashAggregate\n",
      "Input [2]: [lei#68, loan_amount#88]\n",
      "Keys [1]: [lei#68]\n",
      "Functions [1]: [partial_avg(loan_amount#88)]\n",
      "Aggregate Attributes [2]: [sum#1665, count#1666L]\n",
      "Results [3]: [lei#68, sum#1667, count#1668L]\n",
      "\n",
      "(3) Exchange\n",
      "Input [3]: [lei#68, sum#1667, count#1668L]\n",
      "Arguments: hashpartitioning(lei#68, 200), ENSURE_REQUIREMENTS, [plan_id=1150]\n",
      "\n",
      "(4) HashAggregate\n",
      "Input [3]: [lei#68, sum#1667, count#1668L]\n",
      "Keys [1]: [lei#68]\n",
      "Functions [1]: [avg(loan_amount#88)]\n",
      "Aggregate Attributes [1]: [avg(loan_amount#88)#1661]\n",
      "Results [2]: [lei#68, avg(loan_amount#88)#1661 AS avg(loan_amount)#1662]\n",
      "\n",
      "(5) AdaptiveSparkPlan\n",
      "Output [2]: [lei#68, avg(loan_amount)#1662]\n",
      "Arguments: isFinalPlan=false\n",
      "\n",
      "\n",
      "Group by county_code plan:\n",
      "None\n",
      "\n",
      "Group by lei plan:\n",
      "None\n"
     ]
    }
   ],
   "source": [
    "#q8\n",
    "query_group_by_county = loans_df.groupBy(\"county_code\").agg({\"loan_amount\": \"mean\"}).explain(\"formatted\")\n",
    "\n",
    "# Group by lei\n",
    "query_group_by_lei = loans_df.groupBy(\"lei\").agg({\"loan_amount\": \"mean\"}).explain(\"formatted\")\n",
    "\n",
    "# Print explanations\n",
    "print(\"Group by county_code plan:\")\n",
    "print(query_group_by_county)\n",
    "\n",
    "print(\"\\nGroup by lei plan:\")\n",
    "print(query_group_by_lei)"
   ]
  },
  {
   "cell_type": "code",
   "execution_count": 27,
   "id": "dc8bcca0-7b68-4809-a1de-7664f12ade24",
   "metadata": {},
   "outputs": [
    {
     "name": "stderr",
     "output_type": "stream",
     "text": [
      "                                                                                \r"
     ]
    }
   ],
   "source": [
    "loans_df = spark.read.option(\"header\", \"true\").option(\"inferSchema\", \"true\").csv(\"hdfs://nn:9000/hdma-wi-2021.csv\")"
   ]
  },
  {
   "cell_type": "code",
   "execution_count": 28,
   "id": "42a0eeb2-f070-4fea-933b-1d10bd2d667a",
   "metadata": {},
   "outputs": [
    {
     "name": "stderr",
     "output_type": "stream",
     "text": [
      "[Stage 56:>                                                         (0 + 1) / 1]\r"
     ]
    },
    {
     "name": "stdout",
     "output_type": "stream",
     "text": [
      "1\n",
      "6\n",
      "3\n",
      "5\n",
      "4\n",
      "8\n",
      "7\n",
      "2\n"
     ]
    },
    {
     "name": "stderr",
     "output_type": "stream",
     "text": [
      "                                                                                \r"
     ]
    }
   ],
   "source": [
    "# Inspect unique values in the 'action_taken' column to understand its content\n",
    "action_taken_values = loans_df.select(\"action_taken\").distinct().collect()\n",
    "for row in action_taken_values:\n",
    "    print(row['action_taken'])"
   ]
  },
  {
   "cell_type": "code",
   "execution_count": 29,
   "id": "b532e707-202a-4224-bd29-8aeefae284ac",
   "metadata": {},
   "outputs": [
    {
     "data": {
      "text/plain": [
       "DataFrame[loan_amount: double, income: double, interest_rate: double, approval: double]"
      ]
     },
     "execution_count": 29,
     "metadata": {},
     "output_type": "execute_result"
    }
   ],
   "source": [
    "from pyspark.sql import SparkSession\n",
    "from pyspark.sql.functions import col, when\n",
    "\n",
    "# Assuming the SparkSession is already created as `spark`\n",
    "# and `loans_df` is the DataFrame you're starting with\n",
    "\n",
    "# Prepare the DataFrame\n",
    "df_processed = loans_df.select(\n",
    "    col(\"loan_amount\").cast(\"double\"),\n",
    "    col(\"income\").cast(\"double\"),\n",
    "    col(\"interest_rate\").cast(\"double\"),\n",
    "    when(col(\"action_taken\") == 1, 1.0).otherwise(0.0).alias(\"approval\")\n",
    ").na.fill(0.0)\n",
    "\n",
    "train, test = df_processed.randomSplit([0.8, 0.2], seed=41)\n",
    "\n",
    "train.cache()"
   ]
  },
  {
   "cell_type": "code",
   "execution_count": 30,
   "id": "4f64e21b-2e65-4b43-b52b-eb59eba41338",
   "metadata": {},
   "outputs": [
    {
     "name": "stderr",
     "output_type": "stream",
     "text": [
      "                                                                                \r"
     ]
    },
    {
     "data": {
      "text/plain": [
       "242855.0"
      ]
     },
     "execution_count": 30,
     "metadata": {},
     "output_type": "execute_result"
    }
   ],
   "source": [
    "#q9\n",
    "count_approved_loans = train.filter(col(\"approval\") == 1.0).count()\n",
    "\n",
    "count_approved_loans = float(count_approved_loans)\n",
    "count_approved_loans"
   ]
  },
  {
   "cell_type": "code",
   "execution_count": 31,
   "id": "97e770b5-3af6-43d5-b135-9ba1a57cd316",
   "metadata": {},
   "outputs": [],
   "source": [
    "from pyspark.ml.feature import VectorAssembler\n",
    "from pyspark.ml.classification import RandomForestClassifier\n",
    "from pyspark.ml.evaluation import MulticlassClassificationEvaluator\n",
    "\n",
    "assembler = VectorAssembler(\n",
    "    inputCols=[\"loan_amount\", \"income\", \"interest_rate\"],\n",
    "    outputCol=\"features\"\n",
    ")\n",
    "train_assembled = assembler.transform(train)\n",
    "test_assembled = assembler.transform(test)"
   ]
  },
  {
   "cell_type": "code",
   "execution_count": 32,
   "id": "002a0a97-aeac-41c8-a8e9-4c759e95b25b",
   "metadata": {},
   "outputs": [
    {
     "name": "stderr",
     "output_type": "stream",
     "text": [
      "                                                                                \r"
     ]
    }
   ],
   "source": [
    "rf = RandomForestClassifier(featuresCol=\"features\", labelCol=\"approval\", numTrees=10)\n",
    "model = rf.fit(train_assembled)"
   ]
  },
  {
   "cell_type": "code",
   "execution_count": 33,
   "id": "53822810-f1f1-413c-b56b-afcf69719ee0",
   "metadata": {},
   "outputs": [],
   "source": [
    "predictions = model.transform(test_assembled)"
   ]
  },
  {
   "cell_type": "code",
   "execution_count": 34,
   "id": "64840de2-7205-4d45-b0f7-c9f7903ae0cc",
   "metadata": {},
   "outputs": [
    {
     "name": "stderr",
     "output_type": "stream",
     "text": [
      "                                                                                \r"
     ]
    }
   ],
   "source": [
    "evaluator = MulticlassClassificationEvaluator(labelCol=\"approval\", predictionCol=\"prediction\", metricName=\"accuracy\")\n",
    "accuracy = evaluator.evaluate(predictions)"
   ]
  },
  {
   "cell_type": "code",
   "execution_count": 35,
   "id": "b4670ea8-94e4-4e9c-b2de-061ac4f60c77",
   "metadata": {},
   "outputs": [
    {
     "data": {
      "text/plain": [
       "0.8940247650438733"
      ]
     },
     "execution_count": 35,
     "metadata": {},
     "output_type": "execute_result"
    }
   ],
   "source": [
    "#q10\n",
    "accuracy"
   ]
  },
  {
   "cell_type": "code",
   "execution_count": null,
   "id": "37c0744b-63ea-4b6b-9fdb-08abc1ad59ab",
   "metadata": {},
   "outputs": [],
   "source": []
  }
 ],
 "metadata": {
  "kernelspec": {
   "display_name": "Python 3 (ipykernel)",
   "language": "python",
   "name": "python3"
  },
  "language_info": {
   "codemirror_mode": {
    "name": "ipython",
    "version": 3
   },
   "file_extension": ".py",
   "mimetype": "text/x-python",
   "name": "python",
   "nbconvert_exporter": "python",
   "pygments_lexer": "ipython3",
   "version": "3.10.12"
  }
 },
 "nbformat": 4,
 "nbformat_minor": 5
}
